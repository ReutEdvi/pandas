{
  "nbformat": 4,
  "nbformat_minor": 0,
  "metadata": {
    "colab": {
      "name": "PandasDemo.ipynb",
      "provenance": [],
      "collapsed_sections": [],
      "authorship_tag": "ABX9TyMpwPOXDN6CkRYwNjB4NU74",
      "include_colab_link": true
    },
    "kernelspec": {
      "name": "python3",
      "display_name": "Python 3"
    },
    "language_info": {
      "name": "python"
    }
  },
  "cells": [
    {
      "cell_type": "markdown",
      "metadata": {
        "id": "view-in-github",
        "colab_type": "text"
      },
      "source": [
        "<a href=\"https://colab.research.google.com/github/ReutEdvi/pandas/blob/main/PandasDemo.ipynb\" target=\"_parent\"><img src=\"https://colab.research.google.com/assets/colab-badge.svg\" alt=\"Open In Colab\"/></a>"
      ]
    },
    {
      "cell_type": "markdown",
      "metadata": {
        "id": "eeTLef4teYkW"
      },
      "source": [
        "#                            Welcome to the **BIG DATA LABORATORY**\n",
        "\n"
      ]
    },
    {
      "cell_type": "code",
      "execution_count": 1,
      "metadata": {
        "colab": {
          "base_uri": "https://localhost:8080/"
        },
        "id": "6KDx8WtGYPlH",
        "outputId": "e70b9684-d947-4108-d187-b8a603573af0"
      },
      "outputs": [
        {
          "output_type": "stream",
          "name": "stdout",
          "text": [
            "Variable   Type      Data/Info\n",
            "------------------------------\n",
            "np         module    <module 'numpy' from '/us<...>kages/numpy/__init__.py'>\n"
          ]
        }
      ],
      "source": [
        "#First thing we must always do it to import the library\n",
        "import numpy as np  # we import the numpy library with the convention alias \"np\"\n",
        "\n",
        "%whos"
      ]
    },
    {
      "cell_type": "code",
      "source": [
        "from google.colab import drive\n",
        "drive.mount('/content/gdrive')"
      ],
      "metadata": {
        "colab": {
          "base_uri": "https://localhost:8080/"
        },
        "id": "qTGTiZQ5fYRa",
        "outputId": "168aba34-3ea3-492d-8fde-d00af0addcf4"
      },
      "execution_count": 5,
      "outputs": [
        {
          "output_type": "stream",
          "name": "stdout",
          "text": [
            "Mounted at /content/gdrive\n"
          ]
        }
      ]
    },
    {
      "cell_type": "code",
      "source": [
        "import pandas as pd"
      ],
      "metadata": {
        "id": "ak_7DQPvg3Ki"
      },
      "execution_count": 6,
      "outputs": []
    },
    {
      "cell_type": "code",
      "source": [
        ""
      ],
      "metadata": {
        "id": "cUfXaFldgLQT"
      },
      "execution_count": null,
      "outputs": []
    }
  ]
}